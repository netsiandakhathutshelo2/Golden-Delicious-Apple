{
  "nbformat": 4,
  "nbformat_minor": 0,
  "metadata": {
    "colab": {
      "provenance": [],
      "authorship_tag": "ABX9TyPGRjE5lZAlhz67Rc2orFbE",
      "include_colab_link": true
    },
    "kernelspec": {
      "name": "python3",
      "display_name": "Python 3"
    },
    "language_info": {
      "name": "python"
    }
  },
  "cells": [
    {
      "cell_type": "markdown",
      "metadata": {
        "id": "view-in-github",
        "colab_type": "text"
      },
      "source": [
        "<a href=\"https://colab.research.google.com/github/netsiandakhathutshelo2/Golden-Delicious-Apple/blob/main/Calculator.ipynb\" target=\"_parent\"><img src=\"https://colab.research.google.com/assets/colab-badge.svg\" alt=\"Open In Colab\"/></a>"
      ]
    },
    {
      "cell_type": "markdown",
      "source": [
        "**Calulator**"
      ],
      "metadata": {
        "id": "eGq4bHrwyNwX"
      }
    },
    {
      "cell_type": "code",
      "source": [
        "#add\n",
        "def Add(n1,n2):\n",
        "  return n1 + n2\n",
        "\n",
        "#divide\n",
        "def Divide(n1,n2):\n",
        "  return n1 / n2\n",
        "\n",
        "#subtract\n",
        "def Subtract(n1, n2):\n",
        "  return n1 - n2\n",
        "\n",
        "#multiply\n",
        "def Multiply(n1, n2):\n",
        "  return n1 * n2\n",
        "\n",
        "operators = {\"+\" : Add,\n",
        "             \"-\" : Subtract,\n",
        "             \"*\" : Multiply,\n",
        "             \"/\" : Divide,}\n",
        "\n",
        "def Calculator():\n",
        "  n1 = float(input(\"whats your  first number ?\" ))\n",
        "\n",
        "  Continue = True\n",
        "  while Continue :\n",
        "\n",
        "    for Symbol in operators:\n",
        "      print(Symbol)\n",
        "\n",
        "    n2 = float(input(\"whats your next number ? \"))\n",
        "\n",
        "    pick_Symbol = input(\"Pick a symbol from above: \")\n",
        "    function = operators[pick_Symbol]\n",
        "    answer = function(n1 , n2)\n",
        "\n",
        "    print(f\"{n1} {pick_Symbol}  {n2} = {answer}\")\n",
        "\n",
        "    Qustion = input(f\"Type Y to Contunue with {answer}  or N to start a new calculation or E to Exit \")\n",
        "\n",
        "    if Qustion == \"Y\":\n",
        "      n1 = answer\n",
        "    elif Qustion == \"N\":\n",
        "      Continue = False\n",
        "      Calculator()\n",
        "\n",
        "Calculator()\n",
        "\n",
        "\n",
        ""
      ],
      "metadata": {
        "id": "aLJZYf-aru4d",
        "colab": {
          "base_uri": "https://localhost:8080/"
        },
        "outputId": "60725046-1fa0-439b-cb3d-9fe2a9d9cbd7"
      },
      "execution_count": null,
      "outputs": [
        {
          "name": "stdout",
          "output_type": "stream",
          "text": [
            "whats your  first number ?6\n",
            "+\n",
            "-\n",
            "*\n",
            "/\n",
            "whats your nex number ? 9\n",
            "Pick a symbol from above: +\n",
            "6.0 +  9.0 = 15.0\n",
            "Type Y to Contunue with 15.0  or N to start a new calculation or E to Exit Y\n",
            "+\n",
            "-\n",
            "*\n",
            "/\n",
            "whats your nex number ? 5\n",
            "Pick a symbol from above: *\n",
            "15.0 *  5.0 = 75.0\n",
            "Type Y to Contunue with 75.0  or N to start a new calculation or E to Exit N\n"
          ]
        }
      ]
    },
    {
      "cell_type": "markdown",
      "source": [],
      "metadata": {
        "id": "xMBW_RjJ8OJy"
      }
    }
  ]
}