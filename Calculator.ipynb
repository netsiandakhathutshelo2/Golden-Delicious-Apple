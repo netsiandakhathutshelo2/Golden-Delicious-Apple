{
  "nbformat": 4,
  "nbformat_minor": 0,
  "metadata": {
    "colab": {
      "provenance": [],
      "authorship_tag": "ABX9TyMmqowzalPpAiVqGamevXFN",
      "include_colab_link": true
    },
    "kernelspec": {
      "name": "python3",
      "display_name": "Python 3"
    },
    "language_info": {
      "name": "python"
    }
  },
  "cells": [
    {
      "cell_type": "markdown",
      "metadata": {
        "id": "view-in-github",
        "colab_type": "text"
      },
      "source": [
        "<a href=\"https://colab.research.google.com/github/netsiandakhathutshelo2/Golden-Delicious-Apple/blob/main/Calculator.ipynb\" target=\"_parent\"><img src=\"https://colab.research.google.com/assets/colab-badge.svg\" alt=\"Open In Colab\"/></a>"
      ]
    },
    {
      "cell_type": "markdown",
      "source": [
        "**Calulator**"
      ],
      "metadata": {
        "id": "eGq4bHrwyNwX"
      }
    },
    {
      "cell_type": "code",
      "source": [
        "#add\n",
        "def Add(n1,n2):\n",
        "  return n1 + n2\n",
        "\n",
        "#divide\n",
        "def Divide(n1,n2):\n",
        "  return n1 / n2\n",
        "\n",
        "#subtract\n",
        "def Subtract(n1, n2):\n",
        "  return n1 - n2\n",
        "\n",
        "#multiply\n",
        "def Multiply(n1, n2):\n",
        "  return n1 * n2\n",
        "\n",
        "operators = {\"+\" : Add,\n",
        "             \"-\" : Subtract,\n",
        "             \"*\" : Multiply,\n",
        "             \"/\" : Divide,}\n",
        "\n",
        "n1 = int(input(\"whats your  first number ?\" ))\n",
        "\n",
        "Continue = True\n",
        "while Continue :\n",
        "\n",
        "  for Symbol in operators:\n",
        "    print(Symbol)\n",
        "\n",
        "  n2 = int(input(\"whats your nex number ? \"))\n",
        "\n",
        "  pick_Symbol = input(\"Pick a symbol from above: \")\n",
        "  function = operators[pick_Symbol]\n",
        "  answer = function(n1 , n2)\n",
        "\n",
        "  print(f\"{n1} {pick_Symbol}  {n2} = {answer}\")\n",
        "\n",
        "  if input(\"Type Y to Contunue or N to Exit \") == \"Y\":\n",
        "    n1 = answer\n",
        "  else:\n",
        "    Continue = False\n",
        "\n",
        "\n",
        ""
      ],
      "metadata": {
        "id": "aLJZYf-aru4d",
        "colab": {
          "base_uri": "https://localhost:8080/"
        },
        "outputId": "5b257806-645d-4cda-e6f3-e45c1543aa97"
      },
      "execution_count": 28,
      "outputs": [
        {
          "name": "stdout",
          "output_type": "stream",
          "text": [
            "whats your  first number ?7\n",
            "+\n",
            "-\n",
            "*\n",
            "/\n",
            "whats your   nex number ?4\n",
            "Pick a symbol from above: +\n",
            "7 +  4 = 11\n",
            "Type Y to Contunue or N to ExitY\n",
            "+\n",
            "-\n",
            "*\n",
            "/\n",
            "whats your   nex number ?6\n",
            "Pick a symbol from above: *\n",
            "11 *  6 = 66\n",
            "Type Y to Contunue or N to ExitN\n"
          ]
        }
      ]
    },
    {
      "cell_type": "markdown",
      "source": [],
      "metadata": {
        "id": "xMBW_RjJ8OJy"
      }
    }
  ]
}