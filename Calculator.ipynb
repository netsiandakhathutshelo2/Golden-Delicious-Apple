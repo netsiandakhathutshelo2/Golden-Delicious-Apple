{
  "nbformat": 4,
  "nbformat_minor": 0,
  "metadata": {
    "colab": {
      "provenance": [],
      "authorship_tag": "ABX9TyMgJ0KHtCFD1pM/18ac3eyJ",
      "include_colab_link": true
    },
    "kernelspec": {
      "name": "python3",
      "display_name": "Python 3"
    },
    "language_info": {
      "name": "python"
    }
  },
  "cells": [
    {
      "cell_type": "markdown",
      "metadata": {
        "id": "view-in-github",
        "colab_type": "text"
      },
      "source": [
        "<a href=\"https://colab.research.google.com/github/netsiandakhathutshelo2/Golden-Delicious-Apple/blob/main/Calculator.ipynb\" target=\"_parent\"><img src=\"https://colab.research.google.com/assets/colab-badge.svg\" alt=\"Open In Colab\"/></a>"
      ]
    },
    {
      "cell_type": "code",
      "execution_count": null,
      "metadata": {
        "id": "n_GblTUan50q"
      },
      "outputs": [],
      "source": []
    },
    {
      "cell_type": "code",
      "source": [
        "#add\n",
        "def add(n1,n2):\n",
        "  return n1 + n"
      ],
      "metadata": {
        "id": "kTs6miP4oEe9"
      },
      "execution_count": null,
      "outputs": []
    },
    {
      "cell_type": "code",
      "source": [
        "#divide\n",
        "def divide(n1,n2):\n",
        "  return n1 / n2"
      ],
      "metadata": {
        "id": "PpTFpVaHqVxn"
      },
      "execution_count": null,
      "outputs": []
    },
    {
      "cell_type": "code",
      "source": [
        "#subtract\n",
        "def subtract(n1, n):\n",
        "  return n1 - n"
      ],
      "metadata": {
        "id": "sJLrB9POq_bO"
      },
      "execution_count": null,
      "outputs": []
    },
    {
      "cell_type": "code",
      "source": [
        "#multiply\n",
        "def multiply(n1, n2):\n",
        "  return n1 * n"
      ],
      "metadata": {
        "id": "aTf71GwirZXa"
      },
      "execution_count": null,
      "outputs": []
    },
    {
      "cell_type": "code",
      "source": [],
      "metadata": {
        "id": "aLJZYf-aru4d"
      },
      "execution_count": null,
      "outputs": []
    }
  ]
}