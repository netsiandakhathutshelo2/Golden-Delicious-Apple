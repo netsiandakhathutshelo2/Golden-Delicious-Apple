{
  "nbformat": 4,
  "nbformat_minor": 0,
  "metadata": {
    "colab": {
      "provenance": [],
      "authorship_tag": "ABX9TyOlVL7w25ch7kYQZCfkDl5n",
      "include_colab_link": true
    },
    "kernelspec": {
      "name": "python3",
      "display_name": "Python 3"
    },
    "language_info": {
      "name": "python"
    }
  },
  "cells": [
    {
      "cell_type": "markdown",
      "metadata": {
        "id": "view-in-github",
        "colab_type": "text"
      },
      "source": [
        "<a href=\"https://colab.research.google.com/github/netsiandakhathutshelo2/Golden-Delicious-Apple/blob/main/Calculator.ipynb\" target=\"_parent\"><img src=\"https://colab.research.google.com/assets/colab-badge.svg\" alt=\"Open In Colab\"/></a>"
      ]
    },
    {
      "cell_type": "markdown",
      "source": [
        "**Calulator**"
      ],
      "metadata": {
        "id": "eGq4bHrwyNwX"
      }
    },
    {
      "cell_type": "code",
      "source": [
        "#add\n",
        "def Add(n1,n2):\n",
        "  return n1 + n2\n",
        "\n",
        "#divide\n",
        "def Divide(n1,n2):\n",
        "  return n1 / n2\n",
        "\n",
        "#subtract\n",
        "def Subtract(n1, n2):\n",
        "  return n1 - n2\n",
        "\n",
        "#multiply\n",
        "def Multiply(n1, n2):\n",
        "  return n1 * n2\n",
        "\n",
        "operators = {\"+\" : Add,\n",
        "             \"-\" : Subtract,\n",
        "             \"*\" : Multply,\n",
        "             \"/\" : Divide,}\n",
        "\n",
        "n1 = int(input(\"whats your  first number ?\"))\n",
        "n2 = int(input(\"whats your  second number ?\"))\n",
        "\n",
        "for Symbol in operators:\n",
        "  print(Symbol)\n",
        "\n",
        "pick_Symbol = input(f\"Pick a symbol from above: \")\n",
        "function = operators[pick_Symbol]\n",
        "answer = function(n1 , n2)\n",
        "print(function)\n",
        "\n",
        "print(f\"{n1} {pick_Symbol}  {n2} = {answer}\")\n",
        "\n",
        ""
      ],
      "metadata": {
        "id": "aLJZYf-aru4d",
        "colab": {
          "base_uri": "https://localhost:8080/"
        },
        "outputId": "19b446b0-12d2-4590-d7d8-d35dfa34597e"
      },
      "execution_count": 21,
      "outputs": [
        {
          "output_type": "stream",
          "name": "stdout",
          "text": [
            "whats your  first number ?9\n",
            "whats your  second number ?8\n",
            "+\n",
            "-\n",
            "*\n",
            "/\n",
            "Pick a symbol from above: +\n",
            "<function Add at 0x7d1a11ebfbe0>\n",
            "9 +  8 = 17\n"
          ]
        }
      ]
    },
    {
      "cell_type": "markdown",
      "source": [],
      "metadata": {
        "id": "xMBW_RjJ8OJy"
      }
    }
  ]
}