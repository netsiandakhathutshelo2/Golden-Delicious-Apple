{
  "nbformat": 4,
  "nbformat_minor": 0,
  "metadata": {
    "colab": {
      "name": "Untitled7.ipynb",
      "provenance": [],
      "authorship_tag": "ABX9TyMf8zRtKV3uoavUzfKtgY/X",
      "include_colab_link": true
    },
    "kernelspec": {
      "name": "python3",
      "display_name": "Python 3"
    },
    "language_info": {
      "name": "python"
    }
  },
  "cells": [
    {
      "cell_type": "markdown",
      "metadata": {
        "id": "view-in-github",
        "colab_type": "text"
      },
      "source": [
        "<a href=\"https://colab.research.google.com/github/netsiandakhathutshelo2/Golden-Delicious-Apple/blob/main/golden_apples.ipynb\" target=\"_parent\"><img src=\"https://colab.research.google.com/assets/colab-badge.svg\" alt=\"Open In Colab\"/></a>"
      ]
    },
    {
      "cell_type": "code",
      "metadata": {
        "id": "zR9gJUrceh_p"
      },
      "source": [
        "import numpy as np\n",
        "import pandas as pd\n",
        "import matplotlib.pyplot as plt\n",
        "from matplotlib import rc\n",
        "import seaborn as sns"
      ],
      "execution_count": 1,
      "outputs": []
    },
    {
      "cell_type": "code",
      "metadata": {
        "id": "juMzS0Ae_h3T"
      },
      "source": [
        "Test=pd.read_csv(\"df-test_set.csv\")\n",
        "train=pd.read_csv(\"df-train_set.csv\")"
      ],
      "execution_count": 4,
      "outputs": []
    },
    {
      "cell_type": "code",
      "metadata": {
        "id": "vm-lEWMp_h50"
      },
      "source": [
        "# Import the split function from sklearn\n",
        "from sklearn.model_selection import train_test_split"
      ],
      "execution_count": 5,
      "outputs": []
    },
    {
      "cell_type": "code",
      "metadata": {
        "id": "VV5Ky6xK_h8P",
        "outputId": "de84a352-2374-4f15-e08e-1d6b0eed2548",
        "colab": {
          "base_uri": "https://localhost:8080/",
          "height": 162
        }
      },
      "source": [
        "X_train, X_test, y_train, y_test = train_test_split(X, y, test_size=0.2, random_state=50)\n"
      ],
      "execution_count": 6,
      "outputs": [
        {
          "output_type": "error",
          "ename": "NameError",
          "evalue": "ignored",
          "traceback": [
            "\u001b[0;31m---------------------------------------------------------------------------\u001b[0m",
            "\u001b[0;31mNameError\u001b[0m                                 Traceback (most recent call last)",
            "\u001b[0;32m<ipython-input-6-a172a7f1ced5>\u001b[0m in \u001b[0;36m<module>\u001b[0;34m()\u001b[0m\n\u001b[0;32m----> 1\u001b[0;31m \u001b[0mX_train\u001b[0m\u001b[0;34m,\u001b[0m \u001b[0mX_test\u001b[0m\u001b[0;34m,\u001b[0m \u001b[0my_train\u001b[0m\u001b[0;34m,\u001b[0m \u001b[0my_test\u001b[0m \u001b[0;34m=\u001b[0m \u001b[0mtrain_test_split\u001b[0m\u001b[0;34m(\u001b[0m\u001b[0mX\u001b[0m\u001b[0;34m,\u001b[0m \u001b[0my\u001b[0m\u001b[0;34m,\u001b[0m \u001b[0mtest_size\u001b[0m\u001b[0;34m=\u001b[0m\u001b[0;36m0.2\u001b[0m\u001b[0;34m,\u001b[0m \u001b[0mrandom_state\u001b[0m\u001b[0;34m=\u001b[0m\u001b[0;36m50\u001b[0m\u001b[0;34m)\u001b[0m\u001b[0;34m\u001b[0m\u001b[0;34m\u001b[0m\u001b[0m\n\u001b[0m",
            "\u001b[0;31mNameError\u001b[0m: name 'X' is not defined"
          ]
        }
      ]
    },
    {
      "cell_type": "code",
      "metadata": {
        "id": "_HPO3Ghw_h_A"
      },
      "source": [
        "# Plot the results\n",
        "plt.scatter(X_train, y_train, color='green', label='Training')  # plot the training data in green\n",
        "plt.scatter(X_test, y_test, color='darkblue', label='Testing')  # plot the testing data in blue\n",
        "plt.legend()\n",
        "plt.show()"
      ],
      "execution_count": null,
      "outputs": []
    },
    {
      "cell_type": "code",
      "metadata": {
        "id": "XP9htaKz_iCe"
      },
      "source": [
        "# Import the linear regression module\n",
        "from sklearn.linear_model import LinearRegression"
      ],
      "execution_count": null,
      "outputs": []
    },
    {
      "cell_type": "code",
      "metadata": {
        "id": "Og1SBYcx_iEI"
      },
      "source": [
        "# Declare the model object\n",
        "lm = LinearRegression()"
      ],
      "execution_count": null,
      "outputs": []
    },
    {
      "cell_type": "code",
      "metadata": {
        "id": "1gKppDpn_iGL"
      },
      "source": [
        "# Fit the model to the training data (also known as training the model)\n",
        "lm.fit(X_train, y_train)"
      ],
      "execution_count": null,
      "outputs": []
    },
    {
      "cell_type": "code",
      "metadata": {
        "id": "iVhIdVxR_iIh"
      },
      "source": [
        "# Extract the intercept, or y-cut, of our linear model\n",
        "a = float(lm.intercept_)"
      ],
      "execution_count": null,
      "outputs": []
    },
    {
      "cell_type": "code",
      "metadata": {
        "id": "Gv8s4sru_iL-"
      },
      "source": [
        "# Extract the coefficient, or gradient, of our linear model\n",
        "b = lm.coef_"
      ],
      "execution_count": null,
      "outputs": []
    },
    {
      "cell_type": "code",
      "metadata": {
        "id": "m9TP0TspAWcO"
      },
      "source": [
        "# Generate the values that fall along our regression line\n",
        "gen_y = lm.predict(X_train)"
      ],
      "execution_count": null,
      "outputs": []
    },
    {
      "cell_type": "code",
      "metadata": {
        "id": "Kj8Lk6gFAb3f"
      },
      "source": [
        "from sklearn import metrics\n",
        "print(\"Training:\")\n",
        "# Calculate the mean-squared-error\n",
        "print('MSE:', metrics.mean_squared_error(y_train, gen_y))\n",
        "# Calculate the R-squared metric\n",
        "print('R_squared:', metrics.r2_score(y_train, gen_y))"
      ],
      "execution_count": null,
      "outputs": []
    },
    {
      "cell_type": "code",
      "metadata": {
        "id": "vhXiAazPAje5"
      },
      "source": [
        "# Generate values of y from x, using the linear model\n",
        "gen_y_test = lm.predict(X_test)\n",
        "\n",
        "# Plot the results\n",
        "plt.scatter(X_test, y_test, color='darkblue')  # Plot the testing data in blue\n",
        "plt.plot(X_test, gen_y_test, color='red')  # Plot the line connecting the generated y-values in red\n",
        "plt.show()"
      ],
      "execution_count": null,
      "outputs": []
    },
    {
      "cell_type": "code",
      "metadata": {
        "id": "EYmhs9OKAkGf"
      },
      "source": [
        "print(\"Testing:\")\n",
        "print('MSE:', metrics.mean_squared_error(y_test, gen_y_test))\n",
        "print('R_squared:', metrics.r2_score(y_test, gen_y_test))"
      ],
      "execution_count": null,
      "outputs": []
    }
  ]
}